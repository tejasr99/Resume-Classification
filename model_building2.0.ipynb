{
 "cells": [
  {
   "cell_type": "code",
   "execution_count": 1,
   "id": "b97f0eea",
   "metadata": {},
   "outputs": [],
   "source": [
    "import pandas as pd\n",
    "import numpy as np\n",
    "import seaborn as sns\n",
    "import matplotlib.pyplot as plt\n",
    "import warnings\n",
    "warnings.filterwarnings('ignore')\n",
    "import nltk\n",
    "import re\n",
    "import string\n",
    "from sklearn.feature_extraction.text import CountVectorizer\n",
    "from  nltk.corpus import stopwords "
   ]
  },
  {
   "cell_type": "code",
   "execution_count": 2,
   "id": "8782045e",
   "metadata": {},
   "outputs": [
    {
     "data": {
      "text/html": [
       "<div>\n",
       "<style scoped>\n",
       "    .dataframe tbody tr th:only-of-type {\n",
       "        vertical-align: middle;\n",
       "    }\n",
       "\n",
       "    .dataframe tbody tr th {\n",
       "        vertical-align: top;\n",
       "    }\n",
       "\n",
       "    .dataframe thead th {\n",
       "        text-align: right;\n",
       "    }\n",
       "</style>\n",
       "<table border=\"1\" class=\"dataframe\">\n",
       "  <thead>\n",
       "    <tr style=\"text-align: right;\">\n",
       "      <th></th>\n",
       "      <th>Category</th>\n",
       "      <th>cleaned_resumes</th>\n",
       "    </tr>\n",
       "  </thead>\n",
       "  <tbody>\n",
       "    <tr>\n",
       "      <th>0</th>\n",
       "      <td>0</td>\n",
       "      <td>tanna sujatha object seek challeng role area w...</td>\n",
       "    </tr>\n",
       "    <tr>\n",
       "      <th>1</th>\n",
       "      <td>1</td>\n",
       "      <td>maryala vinay reddi profession summari year su...</td>\n",
       "    </tr>\n",
       "    <tr>\n",
       "      <th>2</th>\n",
       "      <td>2</td>\n",
       "      <td>buddha vamsi career object year experi databas...</td>\n",
       "    </tr>\n",
       "    <tr>\n",
       "      <th>3</th>\n",
       "      <td>1</td>\n",
       "      <td>ranga gaganam profession summari profession su...</td>\n",
       "    </tr>\n",
       "    <tr>\n",
       "      <th>4</th>\n",
       "      <td>3</td>\n",
       "      <td>harikrishna akula summari year experi around y...</td>\n",
       "    </tr>\n",
       "    <tr>\n",
       "      <th>...</th>\n",
       "      <td>...</td>\n",
       "      <td>...</td>\n",
       "    </tr>\n",
       "    <tr>\n",
       "      <th>74</th>\n",
       "      <td>4</td>\n",
       "      <td>susovan bag seek challeng posit field scienc t...</td>\n",
       "    </tr>\n",
       "    <tr>\n",
       "      <th>75</th>\n",
       "      <td>3</td>\n",
       "      <td>hari krishna summari result orient profession ...</td>\n",
       "    </tr>\n",
       "    <tr>\n",
       "      <th>76</th>\n",
       "      <td>3</td>\n",
       "      <td>vinay kumar v workday function consult experti...</td>\n",
       "    </tr>\n",
       "    <tr>\n",
       "      <th>77</th>\n",
       "      <td>3</td>\n",
       "      <td>venkata saikrishna workday consult profssion s...</td>\n",
       "    </tr>\n",
       "    <tr>\n",
       "      <th>78</th>\n",
       "      <td>1</td>\n",
       "      <td>kotani durga prasad object aspir posit organ c...</td>\n",
       "    </tr>\n",
       "  </tbody>\n",
       "</table>\n",
       "<p>79 rows × 2 columns</p>\n",
       "</div>"
      ],
      "text/plain": [
       "    Category                                    cleaned_resumes\n",
       "0          0  tanna sujatha object seek challeng role area w...\n",
       "1          1  maryala vinay reddi profession summari year su...\n",
       "2          2  buddha vamsi career object year experi databas...\n",
       "3          1  ranga gaganam profession summari profession su...\n",
       "4          3  harikrishna akula summari year experi around y...\n",
       "..       ...                                                ...\n",
       "74         4  susovan bag seek challeng posit field scienc t...\n",
       "75         3  hari krishna summari result orient profession ...\n",
       "76         3  vinay kumar v workday function consult experti...\n",
       "77         3  venkata saikrishna workday consult profssion s...\n",
       "78         1  kotani durga prasad object aspir posit organ c...\n",
       "\n",
       "[79 rows x 2 columns]"
      ]
     },
     "execution_count": 2,
     "metadata": {},
     "output_type": "execute_result"
    }
   ],
   "source": [
    "df=pd.read_csv(r'C:\\\\Users\\\\Akshay N R\\\\Desktop\\\\Data Science\\\\projects\\\\project2\\\\files\\\\code\\\\cleanedshuffledresumes.csv',encoding = 'unicode_escape')\n",
    "df"
   ]
  },
  {
   "cell_type": "code",
   "execution_count": 3,
   "id": "9bf3c35f",
   "metadata": {},
   "outputs": [],
   "source": [
    "import copy"
   ]
  },
  {
   "cell_type": "code",
   "execution_count": 4,
   "id": "c65f0f13",
   "metadata": {},
   "outputs": [],
   "source": [
    "df1=copy.deepcopy(df)"
   ]
  },
  {
   "cell_type": "code",
   "execution_count": 5,
   "id": "b18c207e",
   "metadata": {},
   "outputs": [
    {
     "data": {
      "text/html": [
       "<div>\n",
       "<style scoped>\n",
       "    .dataframe tbody tr th:only-of-type {\n",
       "        vertical-align: middle;\n",
       "    }\n",
       "\n",
       "    .dataframe tbody tr th {\n",
       "        vertical-align: top;\n",
       "    }\n",
       "\n",
       "    .dataframe thead th {\n",
       "        text-align: right;\n",
       "    }\n",
       "</style>\n",
       "<table border=\"1\" class=\"dataframe\">\n",
       "  <thead>\n",
       "    <tr style=\"text-align: right;\">\n",
       "      <th></th>\n",
       "      <th>Category</th>\n",
       "      <th>cleaned_resumes</th>\n",
       "    </tr>\n",
       "  </thead>\n",
       "  <tbody>\n",
       "    <tr>\n",
       "      <th>0</th>\n",
       "      <td>0</td>\n",
       "      <td>tanna sujatha object seek challeng role area w...</td>\n",
       "    </tr>\n",
       "    <tr>\n",
       "      <th>1</th>\n",
       "      <td>1</td>\n",
       "      <td>maryala vinay reddi profession summari year su...</td>\n",
       "    </tr>\n",
       "    <tr>\n",
       "      <th>2</th>\n",
       "      <td>2</td>\n",
       "      <td>buddha vamsi career object year experi databas...</td>\n",
       "    </tr>\n",
       "    <tr>\n",
       "      <th>3</th>\n",
       "      <td>1</td>\n",
       "      <td>ranga gaganam profession summari profession su...</td>\n",
       "    </tr>\n",
       "    <tr>\n",
       "      <th>4</th>\n",
       "      <td>3</td>\n",
       "      <td>harikrishna akula summari year experi around y...</td>\n",
       "    </tr>\n",
       "  </tbody>\n",
       "</table>\n",
       "</div>"
      ],
      "text/plain": [
       "   Category                                    cleaned_resumes\n",
       "0         0  tanna sujatha object seek challeng role area w...\n",
       "1         1  maryala vinay reddi profession summari year su...\n",
       "2         2  buddha vamsi career object year experi databas...\n",
       "3         1  ranga gaganam profession summari profession su...\n",
       "4         3  harikrishna akula summari year experi around y..."
      ]
     },
     "execution_count": 5,
     "metadata": {},
     "output_type": "execute_result"
    }
   ],
   "source": [
    "df1.head()"
   ]
  },
  {
   "cell_type": "code",
   "execution_count": 6,
   "id": "ade3048a",
   "metadata": {},
   "outputs": [
    {
     "name": "stdout",
     "output_type": "stream",
     "text": [
      "<class 'pandas.core.frame.DataFrame'>\n",
      "RangeIndex: 79 entries, 0 to 78\n",
      "Data columns (total 2 columns):\n",
      " #   Column           Non-Null Count  Dtype \n",
      "---  ------           --------------  ----- \n",
      " 0   Category         79 non-null     int64 \n",
      " 1   cleaned_resumes  79 non-null     object\n",
      "dtypes: int64(1), object(1)\n",
      "memory usage: 1.4+ KB\n"
     ]
    }
   ],
   "source": [
    "df1.info()"
   ]
  },
  {
   "cell_type": "code",
   "execution_count": 7,
   "id": "d5214014",
   "metadata": {},
   "outputs": [
    {
     "data": {
      "text/plain": [
       "array([0, 1, 2, 3, 4], dtype=int64)"
      ]
     },
     "execution_count": 7,
     "metadata": {},
     "output_type": "execute_result"
    }
   ],
   "source": [
    "df1.Category.unique()"
   ]
  },
  {
   "cell_type": "code",
   "execution_count": 8,
   "id": "212e8af7",
   "metadata": {},
   "outputs": [
    {
     "data": {
      "text/plain": [
       "Category           0\n",
       "cleaned_resumes    0\n",
       "dtype: int64"
      ]
     },
     "execution_count": 8,
     "metadata": {},
     "output_type": "execute_result"
    }
   ],
   "source": [
    "df1.isnull().sum()"
   ]
  },
  {
   "cell_type": "code",
   "execution_count": 9,
   "id": "d2c7104a",
   "metadata": {},
   "outputs": [
    {
     "data": {
      "text/html": [
       "<div>\n",
       "<style scoped>\n",
       "    .dataframe tbody tr th:only-of-type {\n",
       "        vertical-align: middle;\n",
       "    }\n",
       "\n",
       "    .dataframe tbody tr th {\n",
       "        vertical-align: top;\n",
       "    }\n",
       "\n",
       "    .dataframe thead th {\n",
       "        text-align: right;\n",
       "    }\n",
       "</style>\n",
       "<table border=\"1\" class=\"dataframe\">\n",
       "  <thead>\n",
       "    <tr style=\"text-align: right;\">\n",
       "      <th></th>\n",
       "      <th>Category</th>\n",
       "      <th>cleaned_resumes</th>\n",
       "    </tr>\n",
       "  </thead>\n",
       "  <tbody>\n",
       "    <tr>\n",
       "      <th>20</th>\n",
       "      <td>1</td>\n",
       "      <td>mareedu lokesh babu profession overview around...</td>\n",
       "    </tr>\n",
       "    <tr>\n",
       "      <th>52</th>\n",
       "      <td>1</td>\n",
       "      <td>uidevelop react js develop name krishna profes...</td>\n",
       "    </tr>\n",
       "  </tbody>\n",
       "</table>\n",
       "</div>"
      ],
      "text/plain": [
       "    Category                                    cleaned_resumes\n",
       "20         1  mareedu lokesh babu profession overview around...\n",
       "52         1  uidevelop react js develop name krishna profes..."
      ]
     },
     "execution_count": 9,
     "metadata": {},
     "output_type": "execute_result"
    }
   ],
   "source": [
    "df1[(df1.duplicated())]"
   ]
  },
  {
   "cell_type": "code",
   "execution_count": 10,
   "id": "a2d39f03",
   "metadata": {},
   "outputs": [],
   "source": [
    "from sklearn.feature_extraction.text import TfidfVectorizer\n",
    "from scipy.sparse import hstack"
   ]
  },
  {
   "cell_type": "code",
   "execution_count": 11,
   "id": "b7b1c11d",
   "metadata": {},
   "outputs": [
    {
     "name": "stdout",
     "output_type": "stream",
     "text": [
      "Feature completed .....\n"
     ]
    }
   ],
   "source": [
    "requiredText = df1['cleaned_resumes'].values\n",
    "requiredTarget = df1['Category'].values\n",
    "\n",
    "word_vectorizer = TfidfVectorizer(\n",
    "    sublinear_tf=True,\n",
    "    stop_words='english')\n",
    "word_vectorizer.fit(requiredText)\n",
    "WordFeatures = word_vectorizer.transform(requiredText)\n",
    "\n",
    "print (\"Feature completed .....\")"
   ]
  },
  {
   "cell_type": "code",
   "execution_count": 12,
   "id": "d70ee990",
   "metadata": {},
   "outputs": [],
   "source": [
    "from sklearn.model_selection import train_test_split"
   ]
  },
  {
   "cell_type": "code",
   "execution_count": 13,
   "id": "cdb897e8",
   "metadata": {},
   "outputs": [
    {
     "data": {
      "text/plain": [
       "((59, 3761), (20, 3761))"
      ]
     },
     "execution_count": 13,
     "metadata": {},
     "output_type": "execute_result"
    }
   ],
   "source": [
    "x_train, x_test, y_train, y_test = train_test_split(WordFeatures, requiredTarget, random_state=42, test_size=0.25, stratify=requiredTarget)\n",
    "x_train.shape, x_test.shape"
   ]
  },
  {
   "cell_type": "code",
   "execution_count": 64,
   "id": "e81dd38d",
   "metadata": {},
   "outputs": [],
   "source": [
    "################ without TFIDF matrices########## \n",
    "#preparing a naive bayes model on training data set\n",
    "\n",
    "from sklearn.naive_bayes import MultinomialNB as MB\n",
    "from sklearn.naive_bayes import GaussianNB as GB\n",
    "from sklearn.metrics import f1_score,precision_score,confusion_matrix,recall_score"
   ]
  },
  {
   "cell_type": "markdown",
   "id": "e13e11bb",
   "metadata": {},
   "source": [
    "# Applying Classification model using SVM"
   ]
  },
  {
   "cell_type": "code",
   "execution_count": 15,
   "id": "42f6c879",
   "metadata": {},
   "outputs": [],
   "source": [
    "from sklearn import svm\n",
    "from sklearn.svm import SVC\n",
    "from sklearn.model_selection import GridSearchCV\n",
    "from sklearn.metrics import classification_report\n",
    "\n",
    "\n",
    "from sklearn.metrics import accuracy_score, confusion_matrix\n",
    "from sklearn.model_selection import train_test_split, cross_val_score\n",
    "import matplotlib.pyplot as plt\n",
    "import seaborn as sns\n",
    "import warnings\n",
    "warnings.filterwarnings('ignore')"
   ]
  },
  {
   "cell_type": "code",
   "execution_count": 16,
   "id": "a53a2f97",
   "metadata": {},
   "outputs": [
    {
     "data": {
      "text/plain": [
       "GridSearchCV(cv=10, estimator=SVC(),\n",
       "             param_grid=[{'C': [14, 13, 12, 11, 10, 0.1, 0.001, 0.0001],\n",
       "                          'gamma': [100, 50, 0.6, 0.05, 0.4, 0.04, 0.1, 0.01,\n",
       "                                    0.001, 0.0001],\n",
       "                          'kernel': ['rbf']}])"
      ]
     },
     "execution_count": 16,
     "metadata": {},
     "output_type": "execute_result"
    }
   ],
   "source": [
    "clf = SVC()\n",
    "param_grid = [{'kernel':['rbf'],'gamma':[100,50,0.6,0.05,0.4,0.04,0.1,0.01,0.001,0.0001],\n",
    "               'C':[14,13,12,11,10,0.1,0.001,0.0001]}]\n",
    "gsv = GridSearchCV(clf,param_grid,cv=10)\n",
    "gsv.fit(x_train,y_train)"
   ]
  },
  {
   "cell_type": "code",
   "execution_count": 17,
   "id": "e4364e97",
   "metadata": {},
   "outputs": [
    {
     "data": {
      "text/plain": [
       "({'C': 14, 'gamma': 0.6, 'kernel': 'rbf'}, 0.95)"
      ]
     },
     "execution_count": 17,
     "metadata": {},
     "output_type": "execute_result"
    }
   ],
   "source": [
    "gsv.best_params_ , gsv.best_score_ "
   ]
  },
  {
   "cell_type": "code",
   "execution_count": 83,
   "id": "cd13f2d6",
   "metadata": {
    "scrolled": true
   },
   "outputs": [
    {
     "name": "stdout",
     "output_type": "stream",
     "text": [
      "Accuracy = 94.91525423728814\n",
      "[[15  0  0  0  0]\n",
      " [ 0 16  0  0  0]\n",
      " [ 0  1  9  0  0]\n",
      " [ 0  0  0 16  0]\n",
      " [ 0  2  0  0  0]]\n",
      "              precision    recall  f1-score   support\n",
      "\n",
      "           0       1.00      1.00      1.00        15\n",
      "           1       0.84      1.00      0.91        16\n",
      "           2       1.00      0.90      0.95        10\n",
      "           3       1.00      1.00      1.00        16\n",
      "           4       0.00      0.00      0.00         2\n",
      "\n",
      "    accuracy                           0.95        59\n",
      "   macro avg       0.77      0.78      0.77        59\n",
      "weighted avg       0.92      0.95      0.93        59\n",
      "\n"
     ]
    }
   ],
   "source": [
    "clf = SVC(kernel='rbf',C=14,gamma=0.015)\n",
    "clf.fit(x_train , y_train)\n",
    "y_pred_train= clf.predict(x_train)\n",
    "acc = accuracy_score(y_train, y_pred_train) * 100\n",
    "print(\"Accuracy =\", acc)\n",
    "print(confusion_matrix(y_train, y_pred_train))\n",
    "print(classification_report(y_train,y_pred_train))"
   ]
  },
  {
   "cell_type": "code",
   "execution_count": 88,
   "id": "0608939f",
   "metadata": {},
   "outputs": [
    {
     "name": "stdout",
     "output_type": "stream",
     "text": [
      "Accuracy = 90.0\n",
      "[[4 1 0 0]\n",
      " [0 6 0 0]\n",
      " [0 1 3 0]\n",
      " [0 0 0 5]]\n",
      "              precision    recall  f1-score   support\n",
      "\n",
      "           0       1.00      0.80      0.89         5\n",
      "           1       0.75      1.00      0.86         6\n",
      "           2       1.00      0.75      0.86         4\n",
      "           3       1.00      1.00      1.00         5\n",
      "\n",
      "    accuracy                           0.90        20\n",
      "   macro avg       0.94      0.89      0.90        20\n",
      "weighted avg       0.93      0.90      0.90        20\n",
      "\n"
     ]
    }
   ],
   "source": [
    "y_pred_test = clf.predict(x_test)\n",
    "acc = accuracy_score(y_test, y_pred_test) * 100\n",
    "print(\"Accuracy =\", acc)\n",
    "print(confusion_matrix(y_test, y_pred_test))\n",
    "print(classification_report(y_test,y_pred_test))"
   ]
  },
  {
   "cell_type": "code",
   "execution_count": 85,
   "id": "59b4d3a8",
   "metadata": {},
   "outputs": [
    {
     "name": "stdout",
     "output_type": "stream",
     "text": [
      "Accuracy Score   :  0.9\n",
      "Precision Score  :  0.9375\n",
      "Recall Score     :  0.8875\n",
      "f1-Score         :  0.9008\n",
      "Confusion Matrix :\n",
      " [[4 1 0 0]\n",
      " [0 6 0 0]\n",
      " [0 1 3 0]\n",
      " [0 0 0 5]]\n"
     ]
    }
   ],
   "source": [
    "accuracy_1 = round(accuracy_score(y_test,y_pred_test),4)\n",
    "precision_1 = round(precision_score(y_test,y_pred_test,average = 'macro'),4)\n",
    "recall_1 = round(recall_score(y_test,y_pred_test, average = 'macro'),4)\n",
    "f1_1 = round(f1_score(y_test,y_pred_test, average = 'macro'),4)\n",
    "print('Accuracy Score   : ', accuracy_1)\n",
    "print('Precision Score  : ', precision_1)\n",
    "print('Recall Score     : ', recall_1)\n",
    "print('f1-Score         : ', f1_1)\n",
    "print('Confusion Matrix :\\n',confusion_matrix(y_test,y_pred_test))"
   ]
  },
  {
   "cell_type": "markdown",
   "id": "31ee42b1",
   "metadata": {},
   "source": [
    "# KNN model"
   ]
  },
  {
   "cell_type": "code",
   "execution_count": 20,
   "id": "7c76161e",
   "metadata": {},
   "outputs": [],
   "source": [
    "from sklearn.model_selection import KFold\n",
    "from sklearn.model_selection import cross_val_score\n",
    "from sklearn.neighbors import KNeighborsClassifier"
   ]
  },
  {
   "cell_type": "code",
   "execution_count": 21,
   "id": "5dcb254a",
   "metadata": {},
   "outputs": [],
   "source": [
    "num_folds = 10\n",
    "kfold = KFold(n_splits=10)"
   ]
  },
  {
   "cell_type": "code",
   "execution_count": 22,
   "id": "536a892a",
   "metadata": {},
   "outputs": [
    {
     "name": "stdout",
     "output_type": "stream",
     "text": [
      "Accuracy = 91.52542372881356\n",
      "              precision    recall  f1-score   support\n",
      "\n",
      "           0       0.94      1.00      0.97        15\n",
      "           1       0.80      1.00      0.89        16\n",
      "           2       1.00      0.70      0.82        10\n",
      "           3       1.00      1.00      1.00        16\n",
      "           4       0.00      0.00      0.00         2\n",
      "\n",
      "    accuracy                           0.92        59\n",
      "   macro avg       0.75      0.74      0.74        59\n",
      "weighted avg       0.90      0.92      0.90        59\n",
      "\n"
     ]
    }
   ],
   "source": [
    "knnmodel = KNeighborsClassifier(n_neighbors=5)\n",
    "knnmodel.fit(x_train , y_train)\n",
    "y_pred_trainknn= clf.predict(x_train)\n",
    "acc = accuracy_score(y_train, y_pred_trainknn) * 100\n",
    "print(\"Accuracy =\", acc)\n",
    "#print(confusion_matrix(y_train, y_pred_trainknn))\n",
    "print(classification_report(y_train,y_pred_trainknn))\n"
   ]
  },
  {
   "cell_type": "code",
   "execution_count": 23,
   "id": "0270904d",
   "metadata": {},
   "outputs": [
    {
     "name": "stdout",
     "output_type": "stream",
     "text": [
      "Accuracy = 100.0\n",
      "[[5 0 0 0]\n",
      " [0 6 0 0]\n",
      " [0 0 4 0]\n",
      " [0 0 0 5]]\n",
      "              precision    recall  f1-score   support\n",
      "\n",
      "           0       1.00      1.00      1.00         5\n",
      "           1       1.00      1.00      1.00         6\n",
      "           2       1.00      1.00      1.00         4\n",
      "           3       1.00      1.00      1.00         5\n",
      "\n",
      "    accuracy                           1.00        20\n",
      "   macro avg       1.00      1.00      1.00        20\n",
      "weighted avg       1.00      1.00      1.00        20\n",
      "\n"
     ]
    }
   ],
   "source": [
    "y_pred_testknn = knnmodel.predict(x_test)\n",
    "acc = accuracy_score(y_test, y_pred_testknn) * 100\n",
    "print(\"Accuracy =\", acc)\n",
    "print(confusion_matrix(y_test, y_pred_testknn))\n",
    "print(classification_report(y_test,y_pred_testknn))"
   ]
  },
  {
   "cell_type": "code",
   "execution_count": 78,
   "id": "c7158270",
   "metadata": {},
   "outputs": [
    {
     "name": "stdout",
     "output_type": "stream",
     "text": [
      "Accuracy Score   :  1.0\n",
      "Precision Score  :  1.0\n",
      "Recall Score     :  1.0\n",
      "f1-Score         :  1.0\n",
      "Confusion Matrix :\n",
      " [[5 0 0 0]\n",
      " [0 6 0 0]\n",
      " [0 0 4 0]\n",
      " [0 0 0 5]]\n"
     ]
    }
   ],
   "source": [
    "accuracy_2 = round(accuracy_score(y_test,y_pred_testknn),4)\n",
    "precision_2 = round(precision_score(y_test,y_pred_testknn,average = 'macro'),4)\n",
    "recall_2 = round(recall_score(y_test,y_pred_testknn, average = 'macro'),4)\n",
    "f1_2 = round(f1_score(y_test,y_pred_testknn, average = 'macro'),4)\n",
    "print('Accuracy Score   : ', accuracy_2)\n",
    "print('Precision Score  : ', precision_2)\n",
    "print('Recall Score     : ', recall_2)\n",
    "print('f1-Score         : ', f1_2)\n",
    "print('Confusion Matrix :\\n',confusion_matrix(y_test,y_pred_testknn))"
   ]
  },
  {
   "cell_type": "code",
   "execution_count": 24,
   "id": "a5411139",
   "metadata": {},
   "outputs": [
    {
     "name": "stdout",
     "output_type": "stream",
     "text": [
      "0.9333333333333333\n"
     ]
    }
   ],
   "source": [
    "knn1model = KNeighborsClassifier(n_neighbors=5)\n",
    "results = cross_val_score(knn1model, x_train, y_train, cv=kfold)\n",
    "print(results.mean())"
   ]
  },
  {
   "cell_type": "code",
   "execution_count": 25,
   "id": "8f3a0575",
   "metadata": {},
   "outputs": [
    {
     "name": "stdout",
     "output_type": "stream",
     "text": [
      "0.9\n"
     ]
    }
   ],
   "source": [
    "knn2model = KNeighborsClassifier(n_neighbors=5)\n",
    "results = cross_val_score(knn2model, x_test, y_test, cv=kfold)\n",
    "print(results.mean())"
   ]
  },
  {
   "cell_type": "code",
   "execution_count": 26,
   "id": "bc032770",
   "metadata": {},
   "outputs": [
    {
     "name": "stdout",
     "output_type": "stream",
     "text": [
      "0.9107142857142858\n"
     ]
    }
   ],
   "source": [
    "knn3model = KNeighborsClassifier(n_neighbors=5)\n",
    "results = cross_val_score(knn3model, WordFeatures, requiredTarget, cv=kfold)\n",
    "print(results.mean())"
   ]
  },
  {
   "cell_type": "markdown",
   "id": "f8878feb",
   "metadata": {},
   "source": [
    "# Building Decision Tree classifier using gini criteria"
   ]
  },
  {
   "cell_type": "code",
   "execution_count": 27,
   "id": "ac0e3789",
   "metadata": {},
   "outputs": [],
   "source": [
    "from sklearn.tree import DecisionTreeClassifier\n",
    "from sklearn import tree"
   ]
  },
  {
   "cell_type": "code",
   "execution_count": 28,
   "id": "a859462c",
   "metadata": {},
   "outputs": [],
   "source": [
    "model_gini = DecisionTreeClassifier(criterion='gini', max_depth=4,max_features='sqrt')"
   ]
  },
  {
   "cell_type": "code",
   "execution_count": 29,
   "id": "bdc6ecf4",
   "metadata": {},
   "outputs": [
    {
     "data": {
      "text/plain": [
       "DecisionTreeClassifier(max_depth=4, max_features='sqrt')"
      ]
     },
     "execution_count": 29,
     "metadata": {},
     "output_type": "execute_result"
    }
   ],
   "source": [
    "model_gini.fit(x_train, y_train)"
   ]
  },
  {
   "cell_type": "code",
   "execution_count": 30,
   "id": "3205d70b",
   "metadata": {},
   "outputs": [
    {
     "name": "stdout",
     "output_type": "stream",
     "text": [
      "Accuracy = 93.22033898305084\n",
      "[[14  0  1  0  0]\n",
      " [ 0 16  0  0  0]\n",
      " [ 1  0  9  0  0]\n",
      " [ 0  0  0 16  0]\n",
      " [ 0  2  0  0  0]]\n",
      "              precision    recall  f1-score   support\n",
      "\n",
      "           0       0.93      0.93      0.93        15\n",
      "           1       0.89      1.00      0.94        16\n",
      "           2       0.90      0.90      0.90        10\n",
      "           3       1.00      1.00      1.00        16\n",
      "           4       0.00      0.00      0.00         2\n",
      "\n",
      "    accuracy                           0.93        59\n",
      "   macro avg       0.74      0.77      0.75        59\n",
      "weighted avg       0.90      0.93      0.92        59\n",
      "\n"
     ]
    }
   ],
   "source": [
    "y_pred_train_gini= model_gini.predict(x_train)\n",
    "acc = accuracy_score(y_train, y_pred_train_gini) * 100\n",
    "print(\"Accuracy =\", acc)\n",
    "print(confusion_matrix(y_train, y_pred_train_gini))\n",
    "print(classification_report(y_train,y_pred_train_gini))"
   ]
  },
  {
   "cell_type": "code",
   "execution_count": 31,
   "id": "4564bfd0",
   "metadata": {},
   "outputs": [
    {
     "name": "stdout",
     "output_type": "stream",
     "text": [
      "Accuracy= 55.00000000000001\n",
      "[[1 1 3 0]\n",
      " [0 5 0 1]\n",
      " [1 3 0 0]\n",
      " [0 0 0 5]]\n",
      "              precision    recall  f1-score   support\n",
      "\n",
      "           0       0.50      0.20      0.29         5\n",
      "           1       0.56      0.83      0.67         6\n",
      "           2       0.00      0.00      0.00         4\n",
      "           3       0.83      1.00      0.91         5\n",
      "\n",
      "    accuracy                           0.55        20\n",
      "   macro avg       0.47      0.51      0.47        20\n",
      "weighted avg       0.50      0.55      0.50        20\n",
      "\n"
     ]
    }
   ],
   "source": [
    "y_pred_test_gini=model_gini.predict(x_test)\n",
    "acc=accuracy_score(y_test, y_pred_test_gini)*100\n",
    "print(\"Accuracy=\", acc)\n",
    "print(confusion_matrix(y_test, y_pred_test_gini))\n",
    "print(classification_report(y_test,y_pred_test_gini))\n"
   ]
  },
  {
   "cell_type": "code",
   "execution_count": 79,
   "id": "2dff6b6f",
   "metadata": {},
   "outputs": [
    {
     "name": "stdout",
     "output_type": "stream",
     "text": [
      "Accuracy Score   :  0.55\n",
      "Precision Score  :  0.4722\n",
      "Recall Score     :  0.5083\n",
      "f1-Score         :  0.4654\n",
      "Confusion Matrix :\n",
      " [[1 1 3 0]\n",
      " [0 5 0 1]\n",
      " [1 3 0 0]\n",
      " [0 0 0 5]]\n"
     ]
    }
   ],
   "source": [
    "accuracy_3 = round(accuracy_score(y_test,y_pred_test_gini),4)\n",
    "precision_3 = round(precision_score(y_test,y_pred_test_gini,average = 'macro'),4)\n",
    "recall_3 = round(recall_score(y_test,y_pred_test_gini, average = 'macro'),4)\n",
    "f1_3 = round(f1_score(y_test,y_pred_test_gini, average = 'macro'),4)\n",
    "print('Accuracy Score   : ', accuracy_3)\n",
    "print('Precision Score  : ', precision_3)\n",
    "print('Recall Score     : ', recall_3)\n",
    "print('f1-Score         : ', f1_3)\n",
    "print('Confusion Matrix :\\n',confusion_matrix(y_test,y_pred_test_gini))"
   ]
  },
  {
   "cell_type": "markdown",
   "id": "ca685962",
   "metadata": {},
   "source": [
    "# RandomforestClassifier"
   ]
  },
  {
   "cell_type": "code",
   "execution_count": 32,
   "id": "6ad84d13",
   "metadata": {},
   "outputs": [],
   "source": [
    "from sklearn.ensemble import RandomForestClassifier\n",
    "import warnings\n",
    "warnings.filterwarnings('ignore')"
   ]
  },
  {
   "cell_type": "code",
   "execution_count": 33,
   "id": "c5969195",
   "metadata": {},
   "outputs": [],
   "source": [
    "modelRFC = RandomForestClassifier()"
   ]
  },
  {
   "cell_type": "code",
   "execution_count": 34,
   "id": "df2d4ffe",
   "metadata": {},
   "outputs": [
    {
     "data": {
      "text/plain": [
       "RandomForestClassifier()"
      ]
     },
     "execution_count": 34,
     "metadata": {},
     "output_type": "execute_result"
    }
   ],
   "source": [
    "#Model on default/normal data splitted\n",
    "modelRFC.fit(x_train,y_train)"
   ]
  },
  {
   "cell_type": "code",
   "execution_count": 35,
   "id": "10aa7d91",
   "metadata": {},
   "outputs": [
    {
     "name": "stdout",
     "output_type": "stream",
     "text": [
      "Accuracy = 100.0\n",
      "[[15  0  0  0  0]\n",
      " [ 0 16  0  0  0]\n",
      " [ 0  0 10  0  0]\n",
      " [ 0  0  0 16  0]\n",
      " [ 0  0  0  0  2]]\n",
      "              precision    recall  f1-score   support\n",
      "\n",
      "           0       1.00      1.00      1.00        15\n",
      "           1       1.00      1.00      1.00        16\n",
      "           2       1.00      1.00      1.00        10\n",
      "           3       1.00      1.00      1.00        16\n",
      "           4       1.00      1.00      1.00         2\n",
      "\n",
      "    accuracy                           1.00        59\n",
      "   macro avg       1.00      1.00      1.00        59\n",
      "weighted avg       1.00      1.00      1.00        59\n",
      "\n"
     ]
    }
   ],
   "source": [
    "y_pred_train_RFC= modelRFC.predict(x_train)\n",
    "acc = accuracy_score(y_train, y_pred_train_RFC) * 100\n",
    "print(\"Accuracy =\", acc)\n",
    "print(confusion_matrix(y_train, y_pred_train_RFC))\n",
    "print(classification_report(y_train,y_pred_train_RFC))"
   ]
  },
  {
   "cell_type": "code",
   "execution_count": 36,
   "id": "c8b95a7b",
   "metadata": {},
   "outputs": [
    {
     "name": "stdout",
     "output_type": "stream",
     "text": [
      "Accuracy = 100.0\n",
      "[[5 0 0 0]\n",
      " [0 6 0 0]\n",
      " [0 0 4 0]\n",
      " [0 0 0 5]]\n",
      "              precision    recall  f1-score   support\n",
      "\n",
      "           0       1.00      1.00      1.00         5\n",
      "           1       1.00      1.00      1.00         6\n",
      "           2       1.00      1.00      1.00         4\n",
      "           3       1.00      1.00      1.00         5\n",
      "\n",
      "    accuracy                           1.00        20\n",
      "   macro avg       1.00      1.00      1.00        20\n",
      "weighted avg       1.00      1.00      1.00        20\n",
      "\n"
     ]
    }
   ],
   "source": [
    "y_pred_test_RFC= modelRFC.predict(x_test)\n",
    "acc = accuracy_score(y_test, y_pred_test_RFC) * 100\n",
    "print(\"Accuracy =\", acc)\n",
    "print(confusion_matrix(y_test, y_pred_test_RFC))\n",
    "print(classification_report(y_test,y_pred_test_RFC))"
   ]
  },
  {
   "cell_type": "code",
   "execution_count": 71,
   "id": "713d8c61",
   "metadata": {},
   "outputs": [
    {
     "name": "stdout",
     "output_type": "stream",
     "text": [
      "Accuracy Score   :  1.0\n",
      "Precision Score  :  1.0\n",
      "Recall Score     :  1.0\n",
      "f1-Score         :  1.0\n",
      "Confusion Matrix :\n",
      " [[5 0 0 0]\n",
      " [0 6 0 0]\n",
      " [0 0 4 0]\n",
      " [0 0 0 5]]\n"
     ]
    }
   ],
   "source": [
    "accuracy_4 = round(accuracy_score(y_test,y_pred_test_RFC),4)\n",
    "precision_4 = round(precision_score(y_test,y_pred_test_RFC,average = 'macro'),4)\n",
    "recall_4 = round(recall_score(y_test,y_pred_test_RFC, average = 'macro'),4)\n",
    "f1_4 = round(f1_score(y_test,y_pred_test_RFC, average = 'macro'),4)\n",
    "print('Accuracy Score   : ', accuracy_4)\n",
    "print('Precision Score  : ', precision_4)\n",
    "print('Recall Score     : ', recall_4)\n",
    "print('f1-Score         : ', f1_4)\n",
    "print('Confusion Matrix :\\n',confusion_matrix(y_test,y_pred_test_RFC))"
   ]
  },
  {
   "cell_type": "markdown",
   "id": "098c3058",
   "metadata": {},
   "source": [
    "# ADABOOST"
   ]
  },
  {
   "cell_type": "code",
   "execution_count": 37,
   "id": "08f27569",
   "metadata": {},
   "outputs": [],
   "source": [
    "from sklearn.ensemble import AdaBoostClassifier,GradientBoostingClassifier"
   ]
  },
  {
   "cell_type": "code",
   "execution_count": 38,
   "id": "d5392cca",
   "metadata": {},
   "outputs": [],
   "source": [
    "modelab = AdaBoostClassifier()"
   ]
  },
  {
   "cell_type": "code",
   "execution_count": 39,
   "id": "1f01fb93",
   "metadata": {},
   "outputs": [
    {
     "data": {
      "text/plain": [
       "AdaBoostClassifier()"
      ]
     },
     "execution_count": 39,
     "metadata": {},
     "output_type": "execute_result"
    }
   ],
   "source": [
    "#Model on default/normal data splitted\n",
    "modelab.fit(x_train,y_train)"
   ]
  },
  {
   "cell_type": "code",
   "execution_count": 40,
   "id": "abbcd1e4",
   "metadata": {},
   "outputs": [
    {
     "name": "stdout",
     "output_type": "stream",
     "text": [
      "Accuracy = 71.1864406779661\n",
      "[[ 0 15  0  0  0]\n",
      " [ 0 16  0  0  0]\n",
      " [ 0  0 10  0  0]\n",
      " [ 0  0  0 16  0]\n",
      " [ 0  2  0  0  0]]\n",
      "              precision    recall  f1-score   support\n",
      "\n",
      "           0       0.00      0.00      0.00        15\n",
      "           1       0.48      1.00      0.65        16\n",
      "           2       1.00      1.00      1.00        10\n",
      "           3       1.00      1.00      1.00        16\n",
      "           4       0.00      0.00      0.00         2\n",
      "\n",
      "    accuracy                           0.71        59\n",
      "   macro avg       0.50      0.60      0.53        59\n",
      "weighted avg       0.57      0.71      0.62        59\n",
      "\n"
     ]
    }
   ],
   "source": [
    "y_pred_train_ab= modelab.predict(x_train)\n",
    "acc = accuracy_score(y_train, y_pred_train_ab) * 100\n",
    "print(\"Accuracy =\", acc)\n",
    "print(confusion_matrix(y_train, y_pred_train_ab))\n",
    "print(classification_report(y_train,y_pred_train_ab))"
   ]
  },
  {
   "cell_type": "code",
   "execution_count": 41,
   "id": "f4e49471",
   "metadata": {},
   "outputs": [
    {
     "name": "stdout",
     "output_type": "stream",
     "text": [
      "Accuracy = 65.0\n",
      "[[0 5 0 0]\n",
      " [0 6 0 0]\n",
      " [0 1 3 0]\n",
      " [0 1 0 4]]\n",
      "              precision    recall  f1-score   support\n",
      "\n",
      "           0       0.00      0.00      0.00         5\n",
      "           1       0.46      1.00      0.63         6\n",
      "           2       1.00      0.75      0.86         4\n",
      "           3       1.00      0.80      0.89         5\n",
      "\n",
      "    accuracy                           0.65        20\n",
      "   macro avg       0.62      0.64      0.59        20\n",
      "weighted avg       0.59      0.65      0.58        20\n",
      "\n"
     ]
    }
   ],
   "source": [
    "y_pred_test_ab= modelab.predict(x_test)\n",
    "acc = accuracy_score(y_test, y_pred_test_ab) * 100\n",
    "print(\"Accuracy =\", acc)\n",
    "print(confusion_matrix(y_test, y_pred_test_ab))\n",
    "print(classification_report(y_test,y_pred_test_ab))"
   ]
  },
  {
   "cell_type": "code",
   "execution_count": 72,
   "id": "c11c1214",
   "metadata": {},
   "outputs": [
    {
     "name": "stdout",
     "output_type": "stream",
     "text": [
      "Accuracy Score   :  0.65\n",
      "Precision Score  :  0.6154\n",
      "Recall Score     :  0.6375\n",
      "f1-Score         :  0.5944\n",
      "Confusion Matrix :\n",
      " [[0 5 0 0]\n",
      " [0 6 0 0]\n",
      " [0 1 3 0]\n",
      " [0 1 0 4]]\n"
     ]
    }
   ],
   "source": [
    "accuracy_5 = round(accuracy_score(y_test,y_pred_test_ab),4)\n",
    "precision_5 = round(precision_score(y_test,y_pred_test_ab,average = 'macro'),4)\n",
    "recall_5 = round(recall_score(y_test,y_pred_test_ab, average = 'macro'),4)\n",
    "f1_5 = round(f1_score(y_test,y_pred_test_ab, average = 'macro'),4)\n",
    "print('Accuracy Score   : ', accuracy_5)\n",
    "print('Precision Score  : ', precision_5)\n",
    "print('Recall Score     : ', recall_5)\n",
    "print('f1-Score         : ', f1_5)\n",
    "print('Confusion Matrix :\\n',confusion_matrix(y_test,y_pred_test_ab))"
   ]
  },
  {
   "cell_type": "markdown",
   "id": "546cbc41",
   "metadata": {},
   "source": [
    "# GradientBoostingClassifier"
   ]
  },
  {
   "cell_type": "code",
   "execution_count": 42,
   "id": "14c90cbf",
   "metadata": {},
   "outputs": [],
   "source": [
    "modelgb = GradientBoostingClassifier()"
   ]
  },
  {
   "cell_type": "code",
   "execution_count": 43,
   "id": "f93493d2",
   "metadata": {},
   "outputs": [
    {
     "data": {
      "text/plain": [
       "GradientBoostingClassifier()"
      ]
     },
     "execution_count": 43,
     "metadata": {},
     "output_type": "execute_result"
    }
   ],
   "source": [
    "modelgb.fit(x_train,y_train)"
   ]
  },
  {
   "cell_type": "code",
   "execution_count": 44,
   "id": "7414bff3",
   "metadata": {},
   "outputs": [
    {
     "name": "stdout",
     "output_type": "stream",
     "text": [
      "Accuracy = 100.0\n",
      "[[15  0  0  0  0]\n",
      " [ 0 16  0  0  0]\n",
      " [ 0  0 10  0  0]\n",
      " [ 0  0  0 16  0]\n",
      " [ 0  0  0  0  2]]\n",
      "              precision    recall  f1-score   support\n",
      "\n",
      "           0       1.00      1.00      1.00        15\n",
      "           1       1.00      1.00      1.00        16\n",
      "           2       1.00      1.00      1.00        10\n",
      "           3       1.00      1.00      1.00        16\n",
      "           4       1.00      1.00      1.00         2\n",
      "\n",
      "    accuracy                           1.00        59\n",
      "   macro avg       1.00      1.00      1.00        59\n",
      "weighted avg       1.00      1.00      1.00        59\n",
      "\n"
     ]
    }
   ],
   "source": [
    "y_pred_train_gb= modelgb.predict(x_train)\n",
    "acc = accuracy_score(y_train, y_pred_train_gb) * 100\n",
    "print(\"Accuracy =\", acc)\n",
    "print(confusion_matrix(y_train, y_pred_train_gb))\n",
    "print(classification_report(y_train,y_pred_train_gb))"
   ]
  },
  {
   "cell_type": "code",
   "execution_count": 45,
   "id": "60ccffd5",
   "metadata": {},
   "outputs": [
    {
     "name": "stdout",
     "output_type": "stream",
     "text": [
      "Accuracy = 95.0\n",
      "[[5 0 0 0]\n",
      " [0 6 0 0]\n",
      " [0 1 3 0]\n",
      " [0 0 0 5]]\n",
      "              precision    recall  f1-score   support\n",
      "\n",
      "           0       1.00      1.00      1.00         5\n",
      "           1       0.86      1.00      0.92         6\n",
      "           2       1.00      0.75      0.86         4\n",
      "           3       1.00      1.00      1.00         5\n",
      "\n",
      "    accuracy                           0.95        20\n",
      "   macro avg       0.96      0.94      0.95        20\n",
      "weighted avg       0.96      0.95      0.95        20\n",
      "\n"
     ]
    }
   ],
   "source": [
    "y_pred_test_gb= modelgb.predict(x_test)\n",
    "acc = accuracy_score(y_test, y_pred_test_gb) * 100\n",
    "print(\"Accuracy =\", acc)\n",
    "print(confusion_matrix(y_test, y_pred_test_gb))\n",
    "print(classification_report(y_test,y_pred_test_gb))"
   ]
  },
  {
   "cell_type": "code",
   "execution_count": 73,
   "id": "7b31830d",
   "metadata": {},
   "outputs": [
    {
     "name": "stdout",
     "output_type": "stream",
     "text": [
      "Accuracy Score   :  0.95\n",
      "Precision Score  :  0.9643\n",
      "Recall Score     :  0.9375\n",
      "f1-Score         :  0.9451\n",
      "Confusion Matrix :\n",
      " [[5 0 0 0]\n",
      " [0 6 0 0]\n",
      " [0 1 3 0]\n",
      " [0 0 0 5]]\n"
     ]
    }
   ],
   "source": [
    "accuracy_6 = round(accuracy_score(y_test,y_pred_test_gb),4)\n",
    "precision_6 = round(precision_score(y_test,y_pred_test_gb,average = 'macro'),4)\n",
    "recall_6 = round(recall_score(y_test,y_pred_test_gb, average = 'macro'),4)\n",
    "f1_6 = round(f1_score(y_test,y_pred_test_gb, average = 'macro'),4)\n",
    "print('Accuracy Score   : ', accuracy_6)\n",
    "print('Precision Score  : ', precision_6)\n",
    "print('Recall Score     : ', recall_6)\n",
    "print('f1-Score         : ', f1_6)\n",
    "print('Confusion Matrix :\\n',confusion_matrix(y_test,y_pred_test_gb))"
   ]
  },
  {
   "cell_type": "markdown",
   "id": "3825a692",
   "metadata": {},
   "source": [
    "# XGBClassifier"
   ]
  },
  {
   "cell_type": "code",
   "execution_count": 46,
   "id": "fe875930",
   "metadata": {},
   "outputs": [],
   "source": [
    "from xgboost import XGBClassifier"
   ]
  },
  {
   "cell_type": "code",
   "execution_count": 47,
   "id": "483df29e",
   "metadata": {},
   "outputs": [],
   "source": [
    "modelxgb=XGBClassifier()"
   ]
  },
  {
   "cell_type": "code",
   "execution_count": 48,
   "id": "ba7ff5eb",
   "metadata": {},
   "outputs": [],
   "source": [
    "modelxgb.fit(x_train,y_train);"
   ]
  },
  {
   "cell_type": "code",
   "execution_count": 49,
   "id": "f74912bd",
   "metadata": {},
   "outputs": [
    {
     "name": "stdout",
     "output_type": "stream",
     "text": [
      "Accuracy = 100.0\n",
      "[[15  0  0  0  0]\n",
      " [ 0 16  0  0  0]\n",
      " [ 0  0 10  0  0]\n",
      " [ 0  0  0 16  0]\n",
      " [ 0  0  0  0  2]]\n",
      "              precision    recall  f1-score   support\n",
      "\n",
      "           0       1.00      1.00      1.00        15\n",
      "           1       1.00      1.00      1.00        16\n",
      "           2       1.00      1.00      1.00        10\n",
      "           3       1.00      1.00      1.00        16\n",
      "           4       1.00      1.00      1.00         2\n",
      "\n",
      "    accuracy                           1.00        59\n",
      "   macro avg       1.00      1.00      1.00        59\n",
      "weighted avg       1.00      1.00      1.00        59\n",
      "\n"
     ]
    }
   ],
   "source": [
    "y_pred_train_xgb= modelxgb.predict(x_train)\n",
    "acc = accuracy_score(y_train, y_pred_train_xgb) * 100\n",
    "print(\"Accuracy =\", acc)\n",
    "print(confusion_matrix(y_train, y_pred_train_xgb))\n",
    "print(classification_report(y_train,y_pred_train_xgb))"
   ]
  },
  {
   "cell_type": "code",
   "execution_count": 50,
   "id": "08a7b987",
   "metadata": {},
   "outputs": [
    {
     "name": "stdout",
     "output_type": "stream",
     "text": [
      "Accuracy = 95.0\n",
      "[[5 0 0 0]\n",
      " [0 6 0 0]\n",
      " [0 1 3 0]\n",
      " [0 0 0 5]]\n",
      "              precision    recall  f1-score   support\n",
      "\n",
      "           0       1.00      1.00      1.00         5\n",
      "           1       0.86      1.00      0.92         6\n",
      "           2       1.00      0.75      0.86         4\n",
      "           3       1.00      1.00      1.00         5\n",
      "\n",
      "    accuracy                           0.95        20\n",
      "   macro avg       0.96      0.94      0.95        20\n",
      "weighted avg       0.96      0.95      0.95        20\n",
      "\n"
     ]
    }
   ],
   "source": [
    "y_pred_test_xgb= modelxgb.predict(x_test)\n",
    "acc = accuracy_score(y_test, y_pred_test_xgb) * 100\n",
    "print(\"Accuracy =\", acc)\n",
    "print(confusion_matrix(y_test, y_pred_test_xgb))\n",
    "print(classification_report(y_test,y_pred_test_xgb))"
   ]
  },
  {
   "cell_type": "code",
   "execution_count": 74,
   "id": "bb52c6a7",
   "metadata": {},
   "outputs": [
    {
     "name": "stdout",
     "output_type": "stream",
     "text": [
      "Accuracy Score   :  0.95\n",
      "Precision Score  :  0.9643\n",
      "Recall Score     :  0.9375\n",
      "f1-Score         :  0.9451\n",
      "Confusion Matrix :\n",
      " [[5 0 0 0]\n",
      " [0 6 0 0]\n",
      " [0 1 3 0]\n",
      " [0 0 0 5]]\n"
     ]
    }
   ],
   "source": [
    "accuracy_7 = round(accuracy_score(y_test,y_pred_test_xgb),4)\n",
    "precision_7 = round(precision_score(y_test,y_pred_test_xgb,average = 'macro'),4)\n",
    "recall_7 = round(recall_score(y_test,y_pred_test_xgb, average = 'macro'),4)\n",
    "f1_7 = round(f1_score(y_test,y_pred_test_xgb, average = 'macro'),4)\n",
    "print('Accuracy Score   : ', accuracy_7)\n",
    "print('Precision Score  : ', precision_7)\n",
    "print('Recall Score     : ', recall_7)\n",
    "print('f1-Score         : ', f1_7)\n",
    "print('Confusion Matrix :\\n',confusion_matrix(y_test,y_pred_test_xgb))"
   ]
  },
  {
   "cell_type": "markdown",
   "id": "93a90d89",
   "metadata": {},
   "source": [
    "# LGBMClassifier"
   ]
  },
  {
   "cell_type": "code",
   "execution_count": 51,
   "id": "d0220aa7",
   "metadata": {},
   "outputs": [],
   "source": [
    "import lightgbm"
   ]
  },
  {
   "cell_type": "code",
   "execution_count": 52,
   "id": "cb39c39f",
   "metadata": {},
   "outputs": [
    {
     "name": "stdout",
     "output_type": "stream",
     "text": [
      "1.5.3\n"
     ]
    }
   ],
   "source": [
    "import pandas as pd\n",
    "print(pd.__version__)"
   ]
  },
  {
   "cell_type": "code",
   "execution_count": 53,
   "id": "ba638b76",
   "metadata": {},
   "outputs": [],
   "source": [
    "from lightgbm import LGBMClassifier"
   ]
  },
  {
   "cell_type": "code",
   "execution_count": 54,
   "id": "1787e8cd",
   "metadata": {},
   "outputs": [],
   "source": [
    "modellgbm=LGBMClassifier()"
   ]
  },
  {
   "cell_type": "code",
   "execution_count": 55,
   "id": "80eb05f7",
   "metadata": {},
   "outputs": [
    {
     "data": {
      "text/plain": [
       "LGBMClassifier()"
      ]
     },
     "execution_count": 55,
     "metadata": {},
     "output_type": "execute_result"
    }
   ],
   "source": [
    "modellgbm.fit(x_train,y_train)"
   ]
  },
  {
   "cell_type": "code",
   "execution_count": 56,
   "id": "d3eefc77",
   "metadata": {},
   "outputs": [
    {
     "name": "stdout",
     "output_type": "stream",
     "text": [
      "Accuracy = 100.0\n",
      "[[15  0  0  0  0]\n",
      " [ 0 16  0  0  0]\n",
      " [ 0  0 10  0  0]\n",
      " [ 0  0  0 16  0]\n",
      " [ 0  0  0  0  2]]\n",
      "              precision    recall  f1-score   support\n",
      "\n",
      "           0       1.00      1.00      1.00        15\n",
      "           1       1.00      1.00      1.00        16\n",
      "           2       1.00      1.00      1.00        10\n",
      "           3       1.00      1.00      1.00        16\n",
      "           4       1.00      1.00      1.00         2\n",
      "\n",
      "    accuracy                           1.00        59\n",
      "   macro avg       1.00      1.00      1.00        59\n",
      "weighted avg       1.00      1.00      1.00        59\n",
      "\n"
     ]
    }
   ],
   "source": [
    "y_pred_train_lgbm= modellgbm.predict(x_train)\n",
    "acc = accuracy_score(y_train, y_pred_train_lgbm) * 100\n",
    "print(\"Accuracy =\", acc)\n",
    "print(confusion_matrix(y_train, y_pred_train_lgbm))\n",
    "print(classification_report(y_train,y_pred_train_lgbm))"
   ]
  },
  {
   "cell_type": "code",
   "execution_count": 57,
   "id": "525afdfe",
   "metadata": {},
   "outputs": [
    {
     "name": "stdout",
     "output_type": "stream",
     "text": [
      "Accuracy = 100.0\n",
      "[[5 0 0 0]\n",
      " [0 6 0 0]\n",
      " [0 0 4 0]\n",
      " [0 0 0 5]]\n",
      "              precision    recall  f1-score   support\n",
      "\n",
      "           0       1.00      1.00      1.00         5\n",
      "           1       1.00      1.00      1.00         6\n",
      "           2       1.00      1.00      1.00         4\n",
      "           3       1.00      1.00      1.00         5\n",
      "\n",
      "    accuracy                           1.00        20\n",
      "   macro avg       1.00      1.00      1.00        20\n",
      "weighted avg       1.00      1.00      1.00        20\n",
      "\n"
     ]
    }
   ],
   "source": [
    "y_pred_test_lgbm= modellgbm.predict(x_test)\n",
    "acc = accuracy_score(y_test, y_pred_test_lgbm) * 100\n",
    "print(\"Accuracy =\", acc)\n",
    "print(confusion_matrix(y_test, y_pred_test_lgbm))\n",
    "print(classification_report(y_test,y_pred_test_lgbm))"
   ]
  },
  {
   "cell_type": "code",
   "execution_count": 75,
   "id": "9b9f932e",
   "metadata": {},
   "outputs": [
    {
     "name": "stdout",
     "output_type": "stream",
     "text": [
      "Accuracy Score   :  1.0\n",
      "Precision Score  :  1.0\n",
      "Recall Score     :  1.0\n",
      "f1-Score         :  1.0\n",
      "Confusion Matrix :\n",
      " [[5 0 0 0]\n",
      " [0 6 0 0]\n",
      " [0 0 4 0]\n",
      " [0 0 0 5]]\n"
     ]
    }
   ],
   "source": [
    "accuracy_8 = round(accuracy_score(y_test,y_pred_test_lgbm),4)\n",
    "precision_8 = round(precision_score(y_test,y_pred_test_lgbm,average = 'macro'),4)\n",
    "recall_8 = round(recall_score(y_test,y_pred_test_lgbm, average = 'macro'),4)\n",
    "f1_8 = round(f1_score(y_test,y_pred_test_lgbm, average = 'macro'),4)\n",
    "print('Accuracy Score   : ', accuracy_8)\n",
    "print('Precision Score  : ', precision_8)\n",
    "print('Recall Score     : ', recall_8)\n",
    "print('f1-Score         : ', f1_8)\n",
    "print('Confusion Matrix :\\n',confusion_matrix(y_test,y_pred_test_lgbm))"
   ]
  },
  {
   "cell_type": "markdown",
   "id": "4b888425",
   "metadata": {},
   "source": [
    "# Naive Bayes(multinomialNB)"
   ]
  },
  {
   "cell_type": "code",
   "execution_count": 58,
   "id": "69f6ebf6",
   "metadata": {},
   "outputs": [],
   "source": [
    "from sklearn.naive_bayes import MultinomialNB as MB\n",
    "from sklearn.naive_bayes import GaussianNB as GB"
   ]
  },
  {
   "cell_type": "code",
   "execution_count": 59,
   "id": "4b522b76",
   "metadata": {},
   "outputs": [],
   "source": [
    "modelmb=MB()"
   ]
  },
  {
   "cell_type": "code",
   "execution_count": 60,
   "id": "5f643cd1",
   "metadata": {},
   "outputs": [
    {
     "data": {
      "text/plain": [
       "MultinomialNB()"
      ]
     },
     "execution_count": 60,
     "metadata": {},
     "output_type": "execute_result"
    }
   ],
   "source": [
    "modelmb.fit(x_train,y_train)"
   ]
  },
  {
   "cell_type": "code",
   "execution_count": 61,
   "id": "9dbf0af2",
   "metadata": {},
   "outputs": [
    {
     "name": "stdout",
     "output_type": "stream",
     "text": [
      "Accuracy = 96.61016949152543\n",
      "[[15  0  0  0  0]\n",
      " [ 0 16  0  0  0]\n",
      " [ 0  0 10  0  0]\n",
      " [ 0  0  0 16  0]\n",
      " [ 0  2  0  0  0]]\n",
      "              precision    recall  f1-score   support\n",
      "\n",
      "           0       1.00      1.00      1.00        15\n",
      "           1       0.89      1.00      0.94        16\n",
      "           2       1.00      1.00      1.00        10\n",
      "           3       1.00      1.00      1.00        16\n",
      "           4       0.00      0.00      0.00         2\n",
      "\n",
      "    accuracy                           0.97        59\n",
      "   macro avg       0.78      0.80      0.79        59\n",
      "weighted avg       0.94      0.97      0.95        59\n",
      "\n"
     ]
    }
   ],
   "source": [
    "y_pred_train_mb= modelmb.predict(x_train)\n",
    "acc = accuracy_score(y_train, y_pred_train_mb) * 100\n",
    "print(\"Accuracy =\", acc)\n",
    "print(confusion_matrix(y_train, y_pred_train_mb))\n",
    "print(classification_report(y_train,y_pred_train_mb))"
   ]
  },
  {
   "cell_type": "code",
   "execution_count": 62,
   "id": "73035e17",
   "metadata": {},
   "outputs": [
    {
     "name": "stdout",
     "output_type": "stream",
     "text": [
      "Accuracy = 95.0\n",
      "[[5 0 0 0]\n",
      " [0 6 0 0]\n",
      " [0 0 3 1]\n",
      " [0 0 0 5]]\n",
      "              precision    recall  f1-score   support\n",
      "\n",
      "           0       1.00      1.00      1.00         5\n",
      "           1       1.00      1.00      1.00         6\n",
      "           2       1.00      0.75      0.86         4\n",
      "           3       0.83      1.00      0.91         5\n",
      "\n",
      "    accuracy                           0.95        20\n",
      "   macro avg       0.96      0.94      0.94        20\n",
      "weighted avg       0.96      0.95      0.95        20\n",
      "\n"
     ]
    }
   ],
   "source": [
    "y_pred_test_mb= modelmb.predict(x_test)\n",
    "acc = accuracy_score(y_test, y_pred_test_mb) * 100\n",
    "print(\"Accuracy =\", acc)\n",
    "print(confusion_matrix(y_test, y_pred_test_mb))\n",
    "print(classification_report(y_test,y_pred_test_mb))"
   ]
  },
  {
   "cell_type": "code",
   "execution_count": 76,
   "id": "13462b11",
   "metadata": {},
   "outputs": [
    {
     "name": "stdout",
     "output_type": "stream",
     "text": [
      "Accuracy Score   :  0.95\n",
      "Precision Score  :  0.9583\n",
      "Recall Score     :  0.9375\n",
      "f1-Score         :  0.9416\n",
      "Confusion Matrix :\n",
      " [[5 0 0 0]\n",
      " [0 6 0 0]\n",
      " [0 0 3 1]\n",
      " [0 0 0 5]]\n"
     ]
    }
   ],
   "source": [
    "accuracy_9 = round(accuracy_score(y_test,y_pred_test_mb),4)\n",
    "precision_9 = round(precision_score(y_test,y_pred_test_mb,average = 'macro'),4)\n",
    "recall_9 = round(recall_score(y_test,y_pred_test_mb, average = 'macro'),4)\n",
    "f1_9 = round(f1_score(y_test,y_pred_test_mb, average = 'macro'),4)\n",
    "print('Accuracy Score   : ', accuracy_9)\n",
    "print('Precision Score  : ', precision_9)\n",
    "print('Recall Score     : ', recall_9)\n",
    "print('f1-Score         : ', f1_9)\n",
    "print('Confusion Matrix :\\n',confusion_matrix(y_test,y_pred_test_mb))"
   ]
  },
  {
   "cell_type": "code",
   "execution_count": 86,
   "id": "90f18227",
   "metadata": {},
   "outputs": [
    {
     "data": {
      "text/html": [
       "<div>\n",
       "<style scoped>\n",
       "    .dataframe tbody tr th:only-of-type {\n",
       "        vertical-align: middle;\n",
       "    }\n",
       "\n",
       "    .dataframe tbody tr th {\n",
       "        vertical-align: top;\n",
       "    }\n",
       "\n",
       "    .dataframe thead th {\n",
       "        text-align: right;\n",
       "    }\n",
       "</style>\n",
       "<table border=\"1\" class=\"dataframe\">\n",
       "  <thead>\n",
       "    <tr style=\"text-align: right;\">\n",
       "      <th></th>\n",
       "      <th>Classifier</th>\n",
       "      <th>Accuracy Score</th>\n",
       "      <th>Precision Score</th>\n",
       "      <th>Recall Score</th>\n",
       "      <th>f1-Score</th>\n",
       "    </tr>\n",
       "  </thead>\n",
       "  <tbody>\n",
       "    <tr>\n",
       "      <th>0</th>\n",
       "      <td>SVM Classifier</td>\n",
       "      <td>0.90</td>\n",
       "      <td>0.9375</td>\n",
       "      <td>0.8875</td>\n",
       "      <td>0.9008</td>\n",
       "    </tr>\n",
       "    <tr>\n",
       "      <th>1</th>\n",
       "      <td>KNN Classifier</td>\n",
       "      <td>1.00</td>\n",
       "      <td>1.0000</td>\n",
       "      <td>1.0000</td>\n",
       "      <td>1.0000</td>\n",
       "    </tr>\n",
       "    <tr>\n",
       "      <th>2</th>\n",
       "      <td>DecisionTree Classifier</td>\n",
       "      <td>0.55</td>\n",
       "      <td>0.4722</td>\n",
       "      <td>0.5083</td>\n",
       "      <td>0.4654</td>\n",
       "    </tr>\n",
       "    <tr>\n",
       "      <th>3</th>\n",
       "      <td>RandomForest Classifier</td>\n",
       "      <td>1.00</td>\n",
       "      <td>1.0000</td>\n",
       "      <td>1.0000</td>\n",
       "      <td>1.0000</td>\n",
       "    </tr>\n",
       "    <tr>\n",
       "      <th>4</th>\n",
       "      <td>AdaBoost Classifier</td>\n",
       "      <td>0.65</td>\n",
       "      <td>0.6154</td>\n",
       "      <td>0.6375</td>\n",
       "      <td>0.5944</td>\n",
       "    </tr>\n",
       "    <tr>\n",
       "      <th>5</th>\n",
       "      <td>Gradient Boosting Classifier</td>\n",
       "      <td>0.95</td>\n",
       "      <td>0.9643</td>\n",
       "      <td>0.9375</td>\n",
       "      <td>0.9451</td>\n",
       "    </tr>\n",
       "    <tr>\n",
       "      <th>6</th>\n",
       "      <td>Xtreme Gradient Boosting Classifier</td>\n",
       "      <td>0.95</td>\n",
       "      <td>0.9643</td>\n",
       "      <td>0.9375</td>\n",
       "      <td>0.9451</td>\n",
       "    </tr>\n",
       "    <tr>\n",
       "      <th>7</th>\n",
       "      <td>Light Gradient Boosting Classifier</td>\n",
       "      <td>1.00</td>\n",
       "      <td>1.0000</td>\n",
       "      <td>1.0000</td>\n",
       "      <td>1.0000</td>\n",
       "    </tr>\n",
       "    <tr>\n",
       "      <th>8</th>\n",
       "      <td>MultinomialNB Classifier</td>\n",
       "      <td>0.95</td>\n",
       "      <td>0.9583</td>\n",
       "      <td>0.9375</td>\n",
       "      <td>0.9416</td>\n",
       "    </tr>\n",
       "  </tbody>\n",
       "</table>\n",
       "</div>"
      ],
      "text/plain": [
       "                            Classifier  Accuracy Score  Precision Score  \\\n",
       "0                       SVM Classifier            0.90           0.9375   \n",
       "1                       KNN Classifier            1.00           1.0000   \n",
       "2              DecisionTree Classifier            0.55           0.4722   \n",
       "3              RandomForest Classifier            1.00           1.0000   \n",
       "4                  AdaBoost Classifier            0.65           0.6154   \n",
       "5         Gradient Boosting Classifier            0.95           0.9643   \n",
       "6  Xtreme Gradient Boosting Classifier            0.95           0.9643   \n",
       "7   Light Gradient Boosting Classifier            1.00           1.0000   \n",
       "8             MultinomialNB Classifier            0.95           0.9583   \n",
       "\n",
       "   Recall Score  f1-Score  \n",
       "0        0.8875    0.9008  \n",
       "1        1.0000    1.0000  \n",
       "2        0.5083    0.4654  \n",
       "3        1.0000    1.0000  \n",
       "4        0.6375    0.5944  \n",
       "5        0.9375    0.9451  \n",
       "6        0.9375    0.9451  \n",
       "7        1.0000    1.0000  \n",
       "8        0.9375    0.9416  "
      ]
     },
     "execution_count": 86,
     "metadata": {},
     "output_type": "execute_result"
    }
   ],
   "source": [
    "table = {'Classifier' : ['SVM Classifier', 'KNN Classifier', 'DecisionTree Classifier', 'RandomForest Classifier', 'AdaBoost Classifier', 'Gradient Boosting Classifier', 'Xtreme Gradient Boosting Classifier', 'Light Gradient Boosting Classifier','MultinomialNB Classifier'], 'Accuracy Score' : [accuracy_1, accuracy_2, accuracy_3, accuracy_4, accuracy_5, accuracy_6, accuracy_7, accuracy_8, accuracy_9], 'Precision Score' : [precision_1, precision_2, precision_3, precision_4, precision_5, precision_6, precision_7, precision_8,precision_9], 'Recall Score' : [recall_1, recall_2, recall_3, recall_4, recall_5, recall_6, recall_7, recall_8, recall_9], 'f1-Score' : [f1_1, f1_2, f1_3, f1_4, f1_5, f1_6, f1_7, f1_8,f1_9]}\n",
    "table = pd.DataFrame(table)\n",
    "table"
   ]
  },
  {
   "cell_type": "code",
   "execution_count": null,
   "id": "fb4899bb",
   "metadata": {},
   "outputs": [],
   "source": []
  }
 ],
 "metadata": {
  "kernelspec": {
   "display_name": "Python 3 (ipykernel)",
   "language": "python",
   "name": "python3"
  },
  "language_info": {
   "codemirror_mode": {
    "name": "ipython",
    "version": 3
   },
   "file_extension": ".py",
   "mimetype": "text/x-python",
   "name": "python",
   "nbconvert_exporter": "python",
   "pygments_lexer": "ipython3",
   "version": "3.9.13"
  }
 },
 "nbformat": 4,
 "nbformat_minor": 5
}
